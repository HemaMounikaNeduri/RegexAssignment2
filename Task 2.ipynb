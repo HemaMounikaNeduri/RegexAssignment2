{
 "cells": [
  {
   "cell_type": "markdown",
   "id": "e7f43ae5",
   "metadata": {},
   "source": [
    "# Name:Neduri Hema Mounika\n",
    "# Redg no-1208"
   ]
  },
  {
   "cell_type": "markdown",
   "id": "0792d1da",
   "metadata": {},
   "source": [
    "# 1.Write a lambda expression to extract first word of a string."
   ]
  },
  {
   "cell_type": "code",
   "execution_count": 3,
   "id": "19060f32",
   "metadata": {},
   "outputs": [
    {
     "name": "stdout",
     "output_type": "stream",
     "text": [
      "Enter string: my name is mounika\n"
     ]
    },
    {
     "data": {
      "text/plain": [
       "'My'"
      ]
     },
     "execution_count": 3,
     "metadata": {},
     "output_type": "execute_result"
    }
   ],
   "source": [
    "string=input(\"Enter string: \")\n",
    "n=lambda string:string.split()[0]\n",
    "n(m)"
   ]
  },
  {
   "cell_type": "markdown",
   "id": "eebe9961",
   "metadata": {},
   "source": [
    "# 2.Write a function to extract first word of s string (with many words separated by space)."
   ]
  },
  {
   "cell_type": "code",
   "execution_count": 6,
   "id": "9e16fea1",
   "metadata": {},
   "outputs": [
    {
     "name": "stdout",
     "output_type": "stream",
     "text": [
      "Enter string : my name is \n",
      "my\n"
     ]
    }
   ],
   "source": [
    "m=input(\"Enter string : \")\n",
    "def firstString(m):\n",
    "    n=m.split()[0]\n",
    "    print(n)\n",
    "firstString(m)"
   ]
  },
  {
   "cell_type": "markdown",
   "id": "09d6e0ee",
   "metadata": {},
   "source": [
    "# 3.Extract the first word from every string from a list of strings by using map function."
   ]
  },
  {
   "cell_type": "code",
   "execution_count": 11,
   "id": "9c0bc3ee",
   "metadata": {},
   "outputs": [
    {
     "name": "stdout",
     "output_type": "stream",
     "text": [
      "['Icecream', 'I', 'Mouni']\n"
     ]
    }
   ],
   "source": [
    "l1=['Icecream is my fav','I am playing with a Ball','Mouni likes Apple']\n",
    "n=lambda n:n.split()[0]\n",
    "print(list(map(n,l1)))"
   ]
  },
  {
   "cell_type": "markdown",
   "id": "e8c12d1f",
   "metadata": {},
   "source": [
    "# 4.Write a function to return a list of prime factors of a given number.\n"
   ]
  },
  {
   "cell_type": "code",
   "execution_count": 15,
   "id": "8d4f03d2",
   "metadata": {},
   "outputs": [
    {
     "name": "stdout",
     "output_type": "stream",
     "text": [
      "Enter a number:6\n",
      "prime factors of 6 are : [2, 3]\n"
     ]
    }
   ],
   "source": [
    "n=int(input('Enter a number:'))\n",
    "print('prime factors of',n,'are :',primef(n))\n",
    "def prime(n):\n",
    "    for i in range(2,n):\n",
    "        if(n%i==0):\n",
    "            return False\n",
    "            break\n",
    "    else:\n",
    "        return True\n",
    "def primef(n):\n",
    "    l=[]\n",
    "    for i in range(2,n+1):\n",
    "        if(n%i==0):\n",
    "            if(prime(i)):\n",
    "                l.append(i)\n",
    "    return l"
   ]
  },
  {
   "cell_type": "markdown",
   "id": "0048a7e6",
   "metadata": {},
   "source": [
    "# 5.Write a function that finds 2nd largest among 4 numbers (Repetitions are allowed,without sorting)."
   ]
  },
  {
   "cell_type": "code",
   "execution_count": 17,
   "id": "8097de66",
   "metadata": {},
   "outputs": [
    {
     "name": "stdout",
     "output_type": "stream",
     "text": [
      "Enter any four numbers : 6 2 45 38\n",
      "38\n"
     ]
    }
   ],
   "source": [
    "def secondLargestNumber(l):\n",
    "    new_list=set(l)\n",
    "    new_list.remove(max(new_list))\n",
    "    print(max(new_list))\n",
    "l = [int(i) for i in input(\"Enter any four numbers : \").split()]\n",
    "secondLargestNumber(l)"
   ]
  }
 ],
 "metadata": {
  "kernelspec": {
   "display_name": "Python 3",
   "language": "python",
   "name": "python3"
  },
  "language_info": {
   "codemirror_mode": {
    "name": "ipython",
    "version": 3
   },
   "file_extension": ".py",
   "mimetype": "text/x-python",
   "name": "python",
   "nbconvert_exporter": "python",
   "pygments_lexer": "ipython3",
   "version": "3.8.8"
  }
 },
 "nbformat": 4,
 "nbformat_minor": 5
}
